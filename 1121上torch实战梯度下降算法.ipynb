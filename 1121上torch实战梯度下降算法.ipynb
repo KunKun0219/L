{
 "cells": [
  {
   "cell_type": "code",
   "execution_count": 3,
   "id": "4a4d2f4b-7a5d-4390-9030-d89172fc7f9c",
   "metadata": {},
   "outputs": [],
   "source": [
    "import os\n",
    "os.environ['KMP_DUPLICATE_LIB_OK']='True'"
   ]
  },
  {
   "cell_type": "markdown",
   "id": "c4e37fff-b4f6-403d-a37d-1b463520dbcb",
   "metadata": {},
   "source": [
    "$$\n",
    "f(x,y)=x^2+y^2\n",
    "$$"
   ]
  },
  {
   "cell_type": "code",
   "execution_count": 7,
   "id": "719dc6a6-aef5-495c-bec3-9b597b60d597",
   "metadata": {},
   "outputs": [
    {
     "data": {
      "image/png": "[encoded data removed]",
      "text/plain": [
       "<Figure size 432x288 with 1 Axes>"
      ]
     },
     "metadata": {
      "needs_background": "light"
     },
     "output_type": "display_data"
    }
   ],
   "source": [
    "import torch\n",
    "import numpy as np\n",
    "import matplotlib.pyplot as plt\n",
    "from mpl_toolkits.mplot3d import Axes3D\n",
    "\n",
    "# 定义二元函数\n",
    "def f(x, y):\n",
    "    return x**2 + y**2\n",
    "\n",
    "# 初始化参数\n",
    "x = torch.tensor([1.0], requires_grad=True)\n",
    "y = torch.tensor([1.0], requires_grad=True)\n",
    "\n",
    "# 设置学习率和迭代次数\n",
    "alpha = 0.1\n",
    "max_iter = 20\n",
    "\n",
    "# 记录迭代过程\n",
    "x_values = [x.item()]\n",
    "y_values = [y.item()]\n",
    "\n",
    "# 执行梯度下降\n",
    "for _ in range(max_iter):\n",
    "    # 计算函数值和梯度\n",
    "    fx = f(x, y)\n",
    "    fx.backward()\n",
    "    \n",
    "    # 更新参数\n",
    "    with torch.no_grad():\n",
    "        x -= alpha * x.grad\n",
    "        y -= alpha * y.grad\n",
    "        x.grad.zero_()\n",
    "        y.grad.zero_()\n",
    "    \n",
    "    # 记录参数值\n",
    "    x_values.append(x.item())\n",
    "    y_values.append(y.item())\n",
    "\n",
    "# 绘制迭代过程\n",
    "plt.plot(x_values, y_values, 'ro-', label='迭代路径')\n",
    "plt.xlabel('x')\n",
    "plt.ylabel('y')\n",
    "plt.title('梯度下降算法迭代过程')\n",
    "plt.legend()\n",
    "plt.show()\n"
   ]
  },
  {
   "cell_type": "raw",
   "id": "faeb91bc-f6ce-49c6-afe5-ad12862702e0",
   "metadata": {},
   "source": []
  },
  {
   "cell_type": "code",
   "execution_count": null,
   "id": "e4a5cbe0-cdc1-458e-99bd-ebb5817acd1f",
   "metadata": {},
   "outputs": [],
   "source": []
  },
  {
   "cell_type": "code",
   "execution_count": null,
   "id": "83dce429-9d69-43f2-9d30-17d8dce61a63",
   "metadata": {},
   "outputs": [],
   "source": []
  },
  {
   "cell_type": "code",
   "execution_count": null,
   "id": "488109c4-2939-42f0-93e9-a68ecf6c3ed7",
   "metadata": {},
   "outputs": [],
   "source": []
  },
  {
   "cell_type": "code",
   "execution_count": null,
   "id": "9798acbf-0555-4d47-aaa7-22bdfe5e5a94",
   "metadata": {},
   "outputs": [],
   "source": []
  }
 ],
 "metadata": {
  "kernelspec": {
   "display_name": "Python 3 (ipykernel)",
   "language": "python",
   "name": "python3"
  },
  "language_info": {
   "codemirror_mode": {
    "name": "ipython",
    "version": 3
   },
   "file_extension": ".py",
   "mimetype": "text/x-python",
   "name": "python",
   "nbconvert_exporter": "python",
   "pygments_lexer": "ipython3",
   "version": "3.9.7"
  }
 },
 "nbformat": 4,
 "nbformat_minor": 5
}
