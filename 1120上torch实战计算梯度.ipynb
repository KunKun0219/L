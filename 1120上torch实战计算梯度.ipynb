{
 "cells": [
  {
   "cell_type": "markdown",
   "id": "81b3ba7c-be86-4b1a-b657-87aa03c47f1b",
   "metadata": {},
   "source": [
    "torch实战"
   ]
  },
  {
   "cell_type": "code",
   "execution_count": 1,
   "id": "f0bc8fb6-2226-49dd-9831-ef68e5d1cd57",
   "metadata": {},
   "outputs": [],
   "source": [
    "import os\n",
    "os.environ['KMP_DUPLICATE_LIB_OK']='True'"
   ]
  },
  {
   "cell_type": "code",
   "execution_count": 2,
   "id": "cbac732f-90ea-44cf-8bf3-7f5e5a25f25f",
   "metadata": {},
   "outputs": [],
   "source": [
    "import matplotlib.pyplot as plt\n",
    "import numpy as np\n",
    "import torch"
   ]
  },
  {
   "cell_type": "code",
   "execution_count": 5,
   "id": "881e04f6-6903-4495-aed6-980cdec77e6a",
   "metadata": {},
   "outputs": [
    {
     "name": "stdout",
     "output_type": "stream",
     "text": [
      "梯度:\n",
      "x1: 0.0\n",
      "x2: 0.002896492835134268\n",
      "v0: 0.001448246417567134\n",
      "v1: 0.001448246417567134\n",
      "v2: 0.001448246417567134\n",
      "v3: 0.02404305338859558\n",
      "v4: 0.00801435112953186\n",
      "v5: 0.00801435112953186\n"
     ]
    }
   ],
   "source": [
    "import torch\n",
    "import matplotlib.pyplot as plt\n",
    "\n",
    "# 定义 sigmoid 函数\n",
    "def sigmoid(x):\n",
    "    return 1 / (1 + torch.exp(-x))\n",
    "\n",
    "# 初始化变量\n",
    "x1 = torch.tensor(0.0, requires_grad=True)\n",
    "x2 = torch.tensor(1.0, requires_grad=True)\n",
    "\n",
    "# 计算图中的节点\n",
    "v0 = x1**2\n",
    "v1 = 2*x2\n",
    "v2 = v0 + v1 + 1\n",
    "v3 = sigmoid(v2)\n",
    "v4 = 3*v3\n",
    "v5 = v4 + sigmoid(v2) + 1\n",
    "y = sigmoid(v5)\n",
    "\n",
    "# 对所有需要计算梯度的节点调用 retain_grad()\n",
    "x1.retain_grad()\n",
    "x2.retain_grad()\n",
    "v0.retain_grad()\n",
    "v1.retain_grad()\n",
    "v2.retain_grad()\n",
    "v3.retain_grad()\n",
    "v4.retain_grad()\n",
    "v5.retain_grad()\n",
    "\n",
    "# 计算梯度\n",
    "y.backward()\n",
    "\n",
    "# 打印梯度\n",
    "print(\"梯度:\")\n",
    "print(f\"x1: {x1.grad}\")\n",
    "print(f\"x2: {x2.grad}\")\n",
    "print(f\"v0: {v0.grad}\")\n",
    "print(f\"v1: {v1.grad}\")\n",
    "print(f\"v2: {v2.grad}\")\n",
    "print(f\"v3: {v3.grad}\")\n",
    "print(f\"v4: {v4.grad}\")\n",
    "print(f\"v5: {v5.grad}\")"
   ]
  },
  {
   "cell_type": "code",
   "execution_count": 6,
   "id": "ab830012-de6e-464d-9354-2c5f78e4f35d",
   "metadata": {},
   "outputs": [
    {
     "data": {
      "image/png": "[encoded data removed]",
      "text/plain": [
       "<Figure size 720x576 with 1 Axes>"
      ]
     },
     "metadata": {
      "needs_background": "light"
     },
     "output_type": "display_data"
    }
   ],
   "source": [
    "# 绘制计算图\n",
    "fig, ax = plt.subplots(figsize=(10, 8))\n",
    "\n",
    "# 绘制节点\n",
    "ax.plot(x1.item(), 0, 'ro', label='x1')\n",
    "ax.plot(x2.item(), 0, 'ro', label='x2')\n",
    "ax.plot(v0.item(), 1, 'ro', label='v0 = x1^2')\n",
    "ax.plot(v1.item(), 1, 'ro', label='v1 = 2*x2')\n",
    "ax.plot(v2.item(), 2, 'ro', label='v2 = v0 + v1 + 1')\n",
    "ax.plot(v3.item(), 2, 'ro', label='v3 = sigmoid(v2)')\n",
    "ax.plot(v4.item(), 3, 'ro', label='v4 = 3*v3')\n",
    "ax.plot(v5.item(), 3, 'ro', label='v5 = v4 + sigmoid(v2) + 1')\n",
    "ax.plot(y.item(), 4, 'ro', label='y = sigmoid(v5)')\n",
    "\n",
    "# 绘制箭头\n",
    "ax.annotate('', xy=(0, 0), xytext=(0, 1), arrowprops=dict(facecolor='black', shrink=0.05))\n",
    "ax.annotate('', xy=(0, 1), xytext=(1, 1), arrowprops=dict(facecolor='black', shrink=0.05))\n",
    "ax.annotate('', xy=(1, 1), xytext=(1, 2), arrowprops=dict(facecolor='black', shrink=0.05))\n",
    "ax.annotate('', xy=(1, 2), xytext=(2, 2), arrowprops=dict(facecolor='black', shrink=0.05))\n",
    "ax.annotate('', xy=(2, 2), xytext=(3, 3), arrowprops=dict(facecolor='black', shrink=0.05))\n",
    "ax.annotate('', xy=(3, 3), xytext=(3, 4), arrowprops=dict(facecolor='black', shrink=0.05))\n",
    "\n",
    "# 设置图例和标签\n",
    "ax.legend()\n",
    "ax.set_title('Computational Graph for the Sigmoid Function')\n",
    "ax.set_xlabel('Node Value')\n",
    "ax.set_ylabel('Node Level')\n",
    "\n",
    "# 显示图形\n",
    "plt.show()"
   ]
  },
  {
   "cell_type": "code",
   "execution_count": null,
   "id": "5df31a23-ee37-4f15-8c7c-b2257ae3c653",
   "metadata": {},
   "outputs": [],
   "source": []
  },
  {
   "cell_type": "code",
   "execution_count": null,
   "id": "bbf17c31-b2b8-4a16-aa2f-0855ad248407",
   "metadata": {},
   "outputs": [],
   "source": []
  },
  {
   "cell_type": "code",
   "execution_count": null,
   "id": "d75eea2b-45b5-4cf7-9cf2-1d0beb8dde4b",
   "metadata": {},
   "outputs": [],
   "source": []
  },
  {
   "cell_type": "code",
   "execution_count": null,
   "id": "a4ec7151-e9ac-4d6e-8a46-e3b7366b54a8",
   "metadata": {},
   "outputs": [],
   "source": []
  },
  {
   "cell_type": "code",
   "execution_count": null,
   "id": "98426931-4d56-4fb3-a3cd-51de46471a1b",
   "metadata": {},
   "outputs": [],
   "source": []
  },
  {
   "cell_type": "code",
   "execution_count": null,
   "id": "0503a29c-5f1e-451a-853b-85a2e7a0db14",
   "metadata": {},
   "outputs": [],
   "source": []
  }
 ],
 "metadata": {
  "kernelspec": {
   "display_name": "Python 3 (ipykernel)",
   "language": "python",
   "name": "python3"
  },
  "language_info": {
   "codemirror_mode": {
    "name": "ipython",
    "version": 3
   },
   "file_extension": ".py",
   "mimetype": "text/x-python",
   "name": "python",
   "nbconvert_exporter": "python",
   "pygments_lexer": "ipython3",
   "version": "3.9.7"
  }
 },
 "nbformat": 4,
 "nbformat_minor": 5
}
